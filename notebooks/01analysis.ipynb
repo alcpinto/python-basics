{
 "cells": [
  {
   "cell_type": "code",
   "execution_count": 8,
   "metadata": {},
   "outputs": [
    {
     "name": "stdout",
     "output_type": "stream",
     "text": [
      "['Tokyo', 'Los Angeles', 'New York', 'San Francisco']\n"
     ]
    }
   ],
   "source": [
    "cities = ['Tokyo','Los Angeles','New York','San Francisco']\n",
    "print(cities)"
   ]
  },
  {
   "cell_type": "code",
   "execution_count": 10,
   "metadata": {},
   "outputs": [
    {
     "name": "stdout",
     "output_type": "stream",
     "text": [
      "New York\n"
     ]
    }
   ],
   "source": [
    "print(cities[2])"
   ]
  },
  {
   "cell_type": "code",
   "execution_count": 40,
   "metadata": {},
   "outputs": [
    {
     "name": "stdout",
     "output_type": "stream",
     "text": [
      "{'Los Angeles': 18550000, 'San Francisco': 1837442, 'New York': 8400000, 'Tokyo': 13350000}\n"
     ]
    }
   ],
   "source": [
    "city_population = {\n",
    "    'Tokyo' : 13350000,\n",
    "    'Los Angeles' : 18550000,\n",
    "    'New York' : 8400000,\n",
    "    'San Francisco' : 1837442\n",
    "}\n",
    "print(city_population)"
   ]
  },
  {
   "cell_type": "code",
   "execution_count": 21,
   "metadata": {},
   "outputs": [
    {
     "name": "stdout",
     "output_type": "stream",
     "text": [
      "13350000\n",
      "San Francisco: 837442\n",
      "San Francisco: 837442\n"
     ]
    }
   ],
   "source": [
    "print(city_population['Tokyo'])\n",
    "print('San Francisco:', city_population['San Francisco'])\n",
    "city_population['San Francisco'] = 837442\n",
    "print('San Francisco:', city_population['San Francisco'])"
   ]
  },
  {
   "cell_type": "code",
   "execution_count": 23,
   "metadata": {},
   "outputs": [
    {
     "data": {
      "text/plain": [
       "{'Los Angeles': 18550000,\n",
       " 'Mumbai': 11980000,\n",
       " 'New York': 8400000,\n",
       " 'San Francisco': 837442,\n",
       " 'Tokio': 13350000}"
      ]
     },
     "execution_count": 23,
     "metadata": {},
     "output_type": "execute_result"
    }
   ],
   "source": [
    "city_population['Mumbai'] = 11980000\n",
    "city_population"
   ]
  },
  {
   "cell_type": "code",
   "execution_count": 27,
   "metadata": {},
   "outputs": [
    {
     "name": "stdout",
     "output_type": "stream",
     "text": [
      "{'New York City': ['Manhattan', 'The Bronx', 'Brooklyn', 'Queens', 'Staten Island'], 'Tokyo': ['Akihabara', 'Harajuku', 'Shimokitazawa', 'Nakameguro', 'Shibuya', 'Ebisu/Daikanyama', 'Shibuya District', 'Aoyama', 'Asakusa/Ueno', 'Bunkyo District', 'Ginza', 'Ikebukuro', 'Koto District', 'Meguro District', 'Minato District', 'Roppongi', 'Shinagawa District', 'Shinjuku', 'Shinjuku District', 'Sumida District', 'Tsukiji', 'Tsukishima']}\n"
     ]
    }
   ],
   "source": [
    "municipalities = {\n",
    "    'New York City': [\n",
    "        'Manhattan',\n",
    "        'The Bronx',\n",
    "        'Brooklyn',\n",
    "        'Queens',\n",
    "        'Staten Island'\n",
    "    ],\n",
    "    'Tokyo': [\n",
    "        'Akihabara', \n",
    "        'Harajuku', \n",
    "        'Shimokitazawa', \n",
    "        'Nakameguro', \n",
    "        'Shibuya', \n",
    "        'Ebisu/Daikanyama', \n",
    "        'Shibuya District', \n",
    "        'Aoyama', \n",
    "        'Asakusa/Ueno', \n",
    "        'Bunkyo District', \n",
    "        'Ginza', \n",
    "        'Ikebukuro', \n",
    "        'Koto District', \n",
    "        'Meguro District', \n",
    "        'Minato District', \n",
    "        'Roppongi', \n",
    "        'Shinagawa District', \n",
    "        'Shinjuku', \n",
    "        'Shinjuku District', \n",
    "        'Sumida District', \n",
    "        'Tsukiji', \n",
    "        'Tsukishima']\n",
    "}\n",
    "print(municipalities)"
   ]
  },
  {
   "cell_type": "code",
   "execution_count": 32,
   "metadata": {},
   "outputs": [
    {
     "name": "stdout",
     "output_type": "stream",
     "text": [
      "Akihabara\n",
      "Queens\n"
     ]
    }
   ],
   "source": [
    "print(municipalities['Tokyo'][0])\n",
    "print(municipalities['New York City'][3])"
   ]
  },
  {
   "cell_type": "code",
   "execution_count": 43,
   "metadata": {},
   "outputs": [
    {
     "name": "stdout",
     "output_type": "stream",
     "text": [
      "<class 'bool'>\n",
      "<class 'dict'>\n",
      "True\n",
      "True\n"
     ]
    }
   ],
   "source": [
    "print(type(True))\n",
    "print(type(municipalities))\n",
    "\n",
    "print(city_population['Tokyo'] == 13350000)\n",
    "print(city_population['Tokyo'] != 50000)"
   ]
  }
 ],
 "metadata": {
  "kernelspec": {
   "display_name": "Python 3",
   "language": "python",
   "name": "python3"
  },
  "language_info": {
   "codemirror_mode": {
    "name": "ipython",
    "version": 3
   },
   "file_extension": ".py",
   "mimetype": "text/x-python",
   "name": "python",
   "nbconvert_exporter": "python",
   "pygments_lexer": "ipython3",
   "version": "3.5.2"
  }
 },
 "nbformat": 4,
 "nbformat_minor": 2
}
